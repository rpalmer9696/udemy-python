{
 "cells": [
  {
   "cell_type": "code",
   "execution_count": null,
   "metadata": {},
   "outputs": [],
   "source": [
    "from bokeh.plotting import figure, output_file, show\n",
    "\n",
    "output_file(\"data/scatter.html\")\n",
    "\n",
    "p = figure(\n",
    "    plot_width=500, plot_height=500, x_axis_label=\"Day of observations\", \n",
    "    y_axis_label=\"Temperature\")\n",
    "\n",
    "p.title.text = \"Temperature over days\"\n",
    "\n",
    "p.circle([1, 2, 3, 4, 5], [5, 6, 4, 5, 3], size=10, color=\"red\", alpha=0.5)\n",
    "\n",
    "show(p)"
   ]
  },
  {
   "cell_type": "code",
   "execution_count": 14,
   "metadata": {},
   "outputs": [],
   "source": [
    "import pandas\n",
    "\n",
    "output_file(\"data/temp-and-pressure-scatter.html\")\n",
    "\n",
    "data = pandas.read_excel(\"data/verlegenhuken.xlsx\")\n",
    "\n",
    "temp_and_pressure_fig = figure(plot_width=500, plot_height=400)\n",
    "\n",
    "temp_and_pressure_fig.xaxis.axis_label = \"Temperature (C)\"\n",
    "temp_and_pressure_fig.yaxis.axis_label = \"Pressure (hPa)\"\n",
    "temp_and_pressure_fig.title.text = \"Temperature and Air Pressure\"\n",
    "\n",
    "temp_and_pressure_fig.circle(\n",
    "    [x / 10 for x in data[\"Temperature\"]], [x / 10 for x in data[\"Pressure\"]], \n",
    "    size=1, color=\"blue\", alpha=1)\n",
    "\n",
    "show(temp_and_pressure_fig)"
   ]
  }
 ],
 "metadata": {
  "kernelspec": {
   "display_name": "Python 3",
   "language": "python",
   "name": "python3"
  },
  "language_info": {
   "codemirror_mode": {
    "name": "ipython",
    "version": 3
   },
   "file_extension": ".py",
   "mimetype": "text/x-python",
   "name": "python",
   "nbconvert_exporter": "python",
   "pygments_lexer": "ipython3",
   "version": "3.6.3"
  }
 },
 "nbformat": 4,
 "nbformat_minor": 1
}
