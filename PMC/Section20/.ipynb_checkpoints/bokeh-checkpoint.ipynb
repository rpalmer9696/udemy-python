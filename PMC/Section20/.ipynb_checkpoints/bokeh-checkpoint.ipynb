{
 "cells": [
  {
   "cell_type": "code",
   "execution_count": 5,
   "metadata": {},
   "outputs": [],
   "source": [
    "from bokeh.plotting import figure, output_file, show\n",
    "\n",
    "output_file(\"data/scatter.html\")\n",
    "\n",
    "p = figure(\n",
    "    plot_width=500, plot_height=500, x_axis_label=\"Day of observations\", \n",
    "    y_axis_label=\"Temperature\")\n",
    "\n",
    "p.title.text = \"Temperature over days\"\n",
    "\n",
    "p.circle([1, 2, 3, 4, 5], [5, 6, 4, 5, 3], size=10, color=\"red\", alpha=0.5)\n",
    "\n",
    "show(p)"
   ]
  }
 ],
 "metadata": {
  "kernelspec": {
   "display_name": "Python 3",
   "language": "python",
   "name": "python3"
  },
  "language_info": {
   "codemirror_mode": {
    "name": "ipython",
    "version": 3
   },
   "file_extension": ".py",
   "mimetype": "text/x-python",
   "name": "python",
   "nbconvert_exporter": "python",
   "pygments_lexer": "ipython3",
   "version": "3.6.3"
  }
 },
 "nbformat": 4,
 "nbformat_minor": 1
}
